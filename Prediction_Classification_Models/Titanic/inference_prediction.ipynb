{
 "cells": [
  {
   "cell_type": "code",
   "execution_count": 48,
   "metadata": {},
   "outputs": [],
   "source": [
    "import pandas as pd\n",
    "import numpy as np\n",
    "from pickle import load as load_model\n",
    "from sklearn.metrics import accuracy_score,precision_score,recall_score,confusion_matrix\n",
    "import warnings\n",
    "warnings.filterwarnings('ignore')"
   ]
  },
  {
   "cell_type": "code",
   "execution_count": 47,
   "metadata": {},
   "outputs": [
    {
     "data": {
      "text/plain": [
       "((891, 12), (418, 11))"
      ]
     },
     "execution_count": 47,
     "metadata": {},
     "output_type": "execute_result"
    }
   ],
   "source": [
    "data_train=pd.read_csv('train.csv')\n",
    "data_test=pd.read_csv('test.csv')\n",
    "data_train.shape,data_test.shape"
   ]
  },
  {
   "cell_type": "markdown",
   "metadata": {},
   "source": [
    "##### Load Models"
   ]
  },
  {
   "cell_type": "code",
   "execution_count": 9,
   "metadata": {},
   "outputs": [],
   "source": [
    "gender_encoder = load_model(open('gender_encoder.sav','rb'))\n",
    "embarked_encoder = load_model(open('embarked_encoder.sav','rb'))\n",
    "model = load_model(open('RandomForestClassifier.sav','rb'))"
   ]
  },
  {
   "cell_type": "code",
   "execution_count": 35,
   "metadata": {},
   "outputs": [],
   "source": [
    "def preprocess(data):\n",
    "    features = ['Pclass','Sex','SibSp','Parch','Embarked','Age']\n",
    "    data  = data[features]\n",
    "    data['Age'] = data['Age'].fillna('0')\n",
    "    data['Embarked'] = data['Embarked'].fillna('NA')\n",
    "    data[gender_encoder.categories_[0][-1]] = gender_encoder.transform(np.array(data['Sex']).reshape((data.shape[0],-1))).reshape(data.shape[0])\n",
    "    data[embarked_encoder.categories_[0]] = embarked_encoder.transform(np.array(data['Embarked']).reshape((data.shape[0],-1)))\n",
    "    data.drop('Sex',inplace=True,axis=1)\n",
    "    data.drop('Embarked',inplace=True,axis=1)\n",
    "    return data"
   ]
  },
  {
   "cell_type": "markdown",
   "metadata": {},
   "source": [
    "#### Train Evaluation"
   ]
  },
  {
   "cell_type": "code",
   "execution_count": 49,
   "metadata": {},
   "outputs": [
    {
     "name": "stdout",
     "output_type": "stream",
     "text": [
      "0.9371492704826038 0.946875 0.8859649122807017\n"
     ]
    },
    {
     "data": {
      "text/plain": [
       "array([[532,  17],\n",
       "       [ 39, 303]], dtype=int64)"
      ]
     },
     "execution_count": 49,
     "metadata": {},
     "output_type": "execute_result"
    }
   ],
   "source": [
    "x_train = preprocess(data_train)\n",
    "y_train = data_train['Survived']\n",
    "y_pred_train = model.predict(x_train)\n",
    "\n",
    "acc = accuracy_score(y_train,y_pred_train)\n",
    "prc = precision_score(y_train,y_pred_train)\n",
    "rcl = recall_score(y_train,y_pred_train)\n",
    "\n",
    "print(acc,prc,rcl)\n",
    "\n",
    "confusion_matrix(y_train,y_pred_train)\n"
   ]
  },
  {
   "cell_type": "markdown",
   "metadata": {},
   "source": [
    "#### Test Prediction"
   ]
  },
  {
   "cell_type": "code",
   "execution_count": 45,
   "metadata": {},
   "outputs": [],
   "source": [
    "x_test = preprocess(data_test)\n",
    "y_pred = model.predict(x_test)\n",
    "pred_results = pd.concat([data_test['PassengerId'],pd.DataFrame(y_pred,columns=['Survived'])],axis=1)\n",
    "pred_results.to_csv('kaggle_submission.csv',index=False)"
   ]
  }
 ],
 "metadata": {
  "kernelspec": {
   "display_name": "Python 3",
   "language": "python",
   "name": "python3"
  },
  "language_info": {
   "codemirror_mode": {
    "name": "ipython",
    "version": 3
   },
   "file_extension": ".py",
   "mimetype": "text/x-python",
   "name": "python",
   "nbconvert_exporter": "python",
   "pygments_lexer": "ipython3",
   "version": "3.11.3"
  }
 },
 "nbformat": 4,
 "nbformat_minor": 2
}
